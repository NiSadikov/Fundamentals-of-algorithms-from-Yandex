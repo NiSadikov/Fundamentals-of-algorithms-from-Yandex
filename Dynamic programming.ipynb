{
 "cells": [
  {
   "cell_type": "markdown",
   "id": "10b4da98",
   "metadata": {},
   "source": [
    "## Камни \n",
    "\n",
    "Вы играете в игру <<Камни>>: игру для двух игроков с двумя наборами камней по $n$ и $m$ штук. С каждым ходом один игрок может взять один камень (из любого набора) или два камня (по одному из обоих). Когда камень забрали, он выходит из игры. Побеждает игрок, который заберет последний камень. Первый ход за вами.\n",
    "\n",
    "Вы и ваш оппонент играете оптимально.\n",
    "\n",
    "### Формат ввода: \n",
    "\n",
    "В первой строке содержится два числа: $n: (1 \\leq n \\leq 10)$, $m: (1 \\leq m \\leq 10)$ - количество ваших камней и количество камней у вашего оппонента.\n",
    "\n",
    "### Формат вывода: \n",
    "\n",
    "В единственной строке выведите Loose если вы заведомо проиграете, и Win - иначе"
   ]
  },
  {
   "cell_type": "code",
   "execution_count": 107,
   "id": "a9d10c0b",
   "metadata": {},
   "outputs": [
    {
     "name": "stdout",
     "output_type": "stream",
     "text": [
      "17 72\n",
      "Win\n"
     ]
    }
   ],
   "source": [
    "n, m = map(int,input().split())\n",
    "\n",
    "matrix = [0]*(n+1)\n",
    "for i in range(n+1):\n",
    "    matrix[i] = [0]*(m+1)\n",
    "for i in range(1,n+1):\n",
    "    if matrix[i-1][0] == 0:\n",
    "        matrix[i][0] = 1\n",
    "    else: \n",
    "        matrix[i][0] = 0\n",
    "for j in range(1,m+1):\n",
    "    if matrix[0][j-1] == 0:\n",
    "        matrix[0][j] = 1\n",
    "    else: \n",
    "        matrix[0][j] = 0\n",
    "for i in range(1,n+1):\n",
    "    for j in range(1,m+1):\n",
    "        if matrix[i-1][j] == 1 and matrix[i][j-1] == 1 and matrix[i-1][j-1] == 1:\n",
    "            matrix[i][j] = 0\n",
    "        else:\n",
    "            matrix[i][j] = 1\n",
    "if matrix[n][m] == 1:  \n",
    "    print('Win')\n",
    "else:\n",
    "    print('Loose')"
   ]
  },
  {
   "cell_type": "markdown",
   "id": "945b059e",
   "metadata": {},
   "source": [
    "## Камни 2 \n",
    "\n",
    "Вы играете в игру <<Камни>>: игру для двух игроков с двумя наборами камней по $n$ и $m$ штук. С каждым ходом один игрок может забрать следующие комбинации камней: взять один камень из любого набора, взять два камня из какого-то одного набора, взять два камня из одного и один из другого.\n",
    "\n",
    "\n"
   ]
  },
  {
   "cell_type": "code",
   "execution_count": null,
   "id": "f5727846",
   "metadata": {},
   "outputs": [],
   "source": [
    "n, m = map(int,input().split())\n",
    "\n",
    "matrix = [0]*(n+1)\n",
    "for i in range(n+1):\n",
    "    matrix[i] = [0]*(m+1)\n",
    "matrix[0][1] = 1\n",
    "matrix[1][0] = 1 \n",
    "matrix[1][1] = 0\n",
    "for i in range(2,n+1):\n",
    "    if matrix[i-2][0] == 0 or matrix[i-1][0] == 0:\n",
    "        matrix[i][0] = 1\n",
    "    else: \n",
    "        matrix[i][0] = 0    \n",
    "for j in range(2,m+1):\n",
    "    if matrix[0][j-2] == 0 or matrix[0][j-1] == 0:\n",
    "        matrix[0][j] = 1\n",
    "    else: \n",
    "        matrix[0][j] = 0 \n",
    "for i in range(1,n+1):\n",
    "    for j in range(1,m+1):\n",
    "        if matrix[i-1][j-1] == 0:\n",
    "            matrix[i][j] = 0\n",
    "        else:\n",
    "            matrix[i][j] = 1\n",
    "if matrix[n][m] == 1:  \n",
    "    print('Win')\n",
    "else:\n",
    "    print('Loose')"
   ]
  }
 ],
 "metadata": {
  "kernelspec": {
   "display_name": "Python 3 (ipykernel)",
   "language": "python",
   "name": "python3"
  },
  "language_info": {
   "codemirror_mode": {
    "name": "ipython",
    "version": 3
   },
   "file_extension": ".py",
   "mimetype": "text/x-python",
   "name": "python",
   "nbconvert_exporter": "python",
   "pygments_lexer": "ipython3",
   "version": "3.9.13"
  }
 },
 "nbformat": 4,
 "nbformat_minor": 5
}
