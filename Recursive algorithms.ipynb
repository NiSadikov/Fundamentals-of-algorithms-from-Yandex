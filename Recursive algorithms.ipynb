{
 "cells": [
  {
   "cell_type": "code",
   "execution_count": 6,
   "id": "243bae44",
   "metadata": {},
   "outputs": [
    {
     "name": "stdout",
     "output_type": "stream",
     "text": [
      "1\n",
      "[[1], [], []]\n"
     ]
    }
   ],
   "source": [
    "n = int(input())\n",
    "a = [[],[],[]]\n",
    "for _ in range(1,n+1):\n",
    "    a[0].append(_)"
   ]
  },
  {
   "cell_type": "markdown",
   "id": "31fcc7c4",
   "metadata": {},
   "source": [
    "# "
   ]
  },
  {
   "cell_type": "code",
   "execution_count": 69,
   "id": "62a3d576",
   "metadata": {},
   "outputs": [
    {
     "name": "stdout",
     "output_type": "stream",
     "text": [
      "4\n",
      "15\n",
      "1 2\n",
      "1 3\n",
      "2 3\n",
      "1 2\n",
      "3 1\n",
      "3 2\n",
      "1 2\n",
      "1 3\n",
      "2 3\n",
      "2 1\n",
      "3 1\n",
      "2 3\n",
      "1 2\n",
      "1 3\n",
      "2 3\n"
     ]
    }
   ],
   "source": [
    "n = int(input())\n",
    "print(2**n-1)\n",
    "a = [[], [], []]\n",
    "for _ in range(1, n + 1):\n",
    "    a[0].append(_)\n",
    "counter = 0\n",
    "def hanoi_towers(n, beginning=0, finished=2):\n",
    "    global counter\n",
    "    if n == 1:\n",
    "        a[finished].append(a[beginning][0])\n",
    "        print(f'{beginning+1} {finished+1}')\n",
    "        counter +=1\n",
    "        a[beginning].pop(0)\n",
    "        return\n",
    "    freedom = 3 - finished - beginning\n",
    "    hanoi_towers(n - 1, beginning=beginning, finished=freedom)\n",
    "    a[finished].append(a[beginning][0])\n",
    "    print(f'{beginning+1} {finished+1}')\n",
    "    counter += 1\n",
    "    a[beginning].pop(0)\n",
    "    hanoi_towers(n - 1, beginning=freedom, finished=finished)\n",
    "\n",
    "hanoi_towers(n)"
   ]
  },
  {
   "cell_type": "markdown",
   "id": "30b49c2d",
   "metadata": {},
   "source": [
    "### "
   ]
  }
 ],
 "metadata": {
  "kernelspec": {
   "display_name": "Python 3 (ipykernel)",
   "language": "python",
   "name": "python3"
  },
  "language_info": {
   "codemirror_mode": {
    "name": "ipython",
    "version": 3
   },
   "file_extension": ".py",
   "mimetype": "text/x-python",
   "name": "python",
   "nbconvert_exporter": "python",
   "pygments_lexer": "ipython3",
   "version": "3.9.13"
  }
 },
 "nbformat": 4,
 "nbformat_minor": 5
}
