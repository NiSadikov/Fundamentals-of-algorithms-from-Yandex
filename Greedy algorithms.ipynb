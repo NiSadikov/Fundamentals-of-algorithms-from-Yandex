{
 "cells": [
  {
   "cell_type": "markdown",
   "id": "31e95712",
   "metadata": {},
   "source": [
    "## Бронирование переговорки\n",
    "\n",
    "Задано $n$ интервалов. Требуется найти максимальное количество взаимно непересекающихся интервалов.\n",
    "\n",
    "Два интервала пересекаются, если они имеют хотя бы одну общую точку.\n",
    "\n",
    "### Формат ввода: \n",
    "\n",
    "В первой строке задано одно число $n: (1 \\leq n \\leq 100)$ — количество интервалов.\n",
    "\n",
    "В следующих $n$ строках заданы интервалы $l_{r},r_{i}$(1 \\leq l_{i} \\leq r_{i} \\leq 50)\n",
    "\n",
    "### Формат вывода: \n",
    "\n",
    "Выведите ответ на задачу"
   ]
  },
  {
   "cell_type": "code",
   "execution_count": null,
   "id": "7199b034",
   "metadata": {},
   "outputs": [],
   "source": [
    "# Это очень плохой код, его нужно переписать\n",
    "\n",
    "n= int(input())\n",
    "s = []\n",
    "for _ in range(n):\n",
    "    l,r = map(int,input().split())\n",
    "    s.append([l,r])\n",
    "intinity = 10000000000\n",
    "v = True \n",
    "m = []\n",
    "while v == True:\n",
    "    for _ in s: \n",
    "        if _[1] < intinity:\n",
    "            intinity = _[1]\n",
    "            l = _[0]\n",
    "            r = _[1]\n",
    "            k = [l,r]\n",
    "    s.remove(k)\n",
    "    m.append(k)\n",
    "    z = s.copy()\n",
    "    for _ in z:\n",
    "        if (k[0]-_[1])*(_[0]-k[1])>= 0:\n",
    "            s.remove([_[0],_[1]])\n",
    "    intinity = 10000000000\n",
    "    l = 1000000\n",
    "    r = 100000000\n",
    "    if len(s) == 0:\n",
    "        v = False\n",
    "print(len(m))"
   ]
  }
 ],
 "metadata": {
  "kernelspec": {
   "display_name": "Python 3 (ipykernel)",
   "language": "python",
   "name": "python3"
  },
  "language_info": {
   "codemirror_mode": {
    "name": "ipython",
    "version": 3
   },
   "file_extension": ".py",
   "mimetype": "text/x-python",
   "name": "python",
   "nbconvert_exporter": "python",
   "pygments_lexer": "ipython3",
   "version": "3.9.13"
  }
 },
 "nbformat": 4,
 "nbformat_minor": 5
}
