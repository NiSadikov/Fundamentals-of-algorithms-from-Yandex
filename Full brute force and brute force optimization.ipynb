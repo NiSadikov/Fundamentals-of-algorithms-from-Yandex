{
 "cells": [
  {
   "cell_type": "markdown",
   "id": "a42135ed",
   "metadata": {},
   "source": [
    "## Перестановки\n",
    "\n",
    "Выведите число перестановок P(n)\n",
    "\n",
    "### Формат ввода: \n",
    "\n",
    "В первой строке находится одно число $n:(1 \\leq n \\leq 7 )$\n",
    "\n",
    "### Формат вывода: \n",
    "\n",
    "Выведите ответ на задачу"
   ]
  },
  {
   "cell_type": "code",
   "execution_count": null,
   "id": "535756d3",
   "metadata": {},
   "outputs": [],
   "source": [
    "n = int(input())\n",
    "s = 1\n",
    "for x in range(1,n+1):\n",
    "    s *= x\n",
    "print(s)"
   ]
  },
  {
   "cell_type": "markdown",
   "id": "6b14a474",
   "metadata": {},
   "source": [
    "## Сочетания\n",
    "\n",
    "Выведите число сочетаний $C(n,k)$\n",
    "\n",
    "### Формат ввода: \n",
    "\n",
    "В первой строке находится одно число $n:(1 \\leq n \\leq 7 ), \\,\\, k: (1 \\leq k \\leq 7)$\n",
    "\n",
    "### Формат вывода: \n",
    "\n",
    "Выведите ответ на задачу"
   ]
  },
  {
   "cell_type": "code",
   "execution_count": null,
   "id": "5c134271",
   "metadata": {},
   "outputs": [],
   "source": [
    "n, k = map(int,input().split())\n",
    "s = 1\n",
    "p = 1\n",
    "l = 1\n",
    "c = n-k\n",
    "for x in range(1,n+1):\n",
    "    s *= x\n",
    "for x in range(1,k+1):\n",
    "    p *= x\n",
    "for x in range(1,n-k+1):\n",
    "     l*= x    \n",
    "print(int(s/(l*p)))"
   ]
  },
  {
   "cell_type": "markdown",
   "id": "ce2edfd3",
   "metadata": {},
   "source": [
    "## Сочетания с повторениями\n",
    "\n",
    "Выведите число сочетаний с повторениями $\\overline{C}(n,k)$\n",
    "\n",
    "### Формат ввода: \n",
    "\n",
    "В первой строке находится одно число $n:(1 \\leq n \\leq 4 ), \\,\\, k: (1 \\leq k \\leq 4)$\n",
    "\n",
    "### Формат вывода: \n",
    "\n",
    "Выведите ответ на задачу"
   ]
  },
  {
   "cell_type": "code",
   "execution_count": null,
   "id": "a579b9f1",
   "metadata": {},
   "outputs": [],
   "source": [
    "n, k = map(int,input().split())\n",
    "s = 1\n",
    "p = 1\n",
    "l = 1\n",
    "for x in range(1,n+k):\n",
    "    s *= x\n",
    "for x in range(1,k+1):\n",
    "    p *= x\n",
    "for x in range(1,n):\n",
    "     l*= x    \n",
    "print(int(s/(l*p)))"
   ]
  }
 ],
 "metadata": {
  "kernelspec": {
   "display_name": "Python 3 (ipykernel)",
   "language": "python",
   "name": "python3"
  },
  "language_info": {
   "codemirror_mode": {
    "name": "ipython",
    "version": 3
   },
   "file_extension": ".py",
   "mimetype": "text/x-python",
   "name": "python",
   "nbconvert_exporter": "python",
   "pygments_lexer": "ipython3",
   "version": "3.9.13"
  }
 },
 "nbformat": 4,
 "nbformat_minor": 5
}
